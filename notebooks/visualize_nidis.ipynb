{
 "cells": [
  {
   "cell_type": "markdown",
   "id": "8a0886c6-d178-40ae-8a06-78408a479eb7",
   "metadata": {},
   "source": [
    "# NIDIS Visualization Tool\n",
    "\n",
    "Kernel: `ILAB Kernel (PyTorch)`\n",
    "\n",
    "Purpose: To visualize the indicator rasters produced by the NIDIS code base."
   ]
  },
  {
   "cell_type": "code",
   "execution_count": null,
   "id": "9638013f-a852-4914-8ad1-2ad0d0e01292",
   "metadata": {},
   "outputs": [],
   "source": [
    "import sys\n",
    "sys.path.append('../../nidis')\n",
    "\n",
    "from nidis.model.Metadata import (\n",
    "    DictofInitialToWord_Seasons,\n",
    "    DictofNumNamePairs_Channels\n",
    ")\n",
    "\n",
    "import xarray as xr\n",
    "import pathlib\n",
    "\n",
    "import panel as pn\n",
    "import panel.widgets as pnw\n",
    "import hvplot.xarray\n",
    "assert hvplot.xarray\n",
    "\n",
    "pn.extension(loading_spinner='dots', template='bootstrap')\n",
    "pn.param.ParamMethod.loading_indicator = True"
   ]
  },
  {
   "cell_type": "code",
   "execution_count": null,
   "id": "caa7da24-db72-455e-b949-3da2d463121a",
   "metadata": {},
   "outputs": [],
   "source": [
    "nc_dir_str: str = '/panfs/ccds02/nobackup/projects/ilab/projects/NIDIS/Outputs_fame'\n",
    "\n",
    "nc_dir: pathlib.Path = pathlib.Path(nc_dir_str)\n",
    "\n",
    "ncs_in_dir: list = sorted(nc_dir.glob('*.nc'))\n",
    "\n",
    "indicator_dict: dict = {}\n",
    "\n",
    "for nc_file_path in ncs_in_dir:\n",
    "    subsplit = nc_file_path.stem.split('_')\n",
    "    key = '_'.join(subsplit[6:-1])\n",
    "    season = DictofInitialToWord_Seasons[subsplit[5]]\n",
    "    if not key in indicator_dict:\n",
    "        indicator_dict[key] = {}\n",
    "    indicator_dict[key][season] = [str(nc_file_path)]"
   ]
  },
  {
   "cell_type": "code",
   "execution_count": null,
   "id": "e23583bb-8593-44bc-9383-90ee73ec1312",
   "metadata": {},
   "outputs": [],
   "source": [
    "visible = pnw.Select(options=[True, False],\n",
    "                     value=True,\n",
    "                     name='Raster Visible')\n",
    "\n",
    "selector = pnw.NestedSelect(options=indicator_dict,\n",
    "                            levels=['Indicator', 'Season', 'File'],\n",
    "                            layout=pn.Row)\n",
    "\n",
    "def display_selection(selector_values: dict):\n",
    "    indicator = selector_values['Indicator']\n",
    "    season = selector_values['Season']\n",
    "    file_path = selector_values['File']\n",
    "    sampleArray = xr.load_dataset(file_path)\n",
    "    rasterLayer = sampleArray['FracI'].hvplot(\n",
    "                geo=True,\n",
    "                cmap='jet',\n",
    "                rasterize=True,\n",
    "                frame_width=1200,\n",
    "                tiles='EsriImagery',\n",
    "                visible=visible)\n",
    "    yield rasterLayer"
   ]
  },
  {
   "cell_type": "code",
   "execution_count": null,
   "id": "7c9f9c43-30ce-472f-b553-dbd3986529c5",
   "metadata": {},
   "outputs": [],
   "source": [
    "pn.Column(pn.Row(visible, selector), pn.bind(display_selection, selector))"
   ]
  },
  {
   "cell_type": "code",
   "execution_count": null,
   "id": "c6fdc7b2-8f78-4d24-9fbb-2887d25470cf",
   "metadata": {},
   "outputs": [],
   "source": []
  }
 ],
 "metadata": {
  "kernelspec": {
   "display_name": "ILAB Kernel (Pytorch)",
   "language": "python",
   "name": "pytorch-kernel"
  },
  "language_info": {
   "codemirror_mode": {
    "name": "ipython",
    "version": 3
   },
   "file_extension": ".py",
   "mimetype": "text/x-python",
   "name": "python",
   "nbconvert_exporter": "python",
   "pygments_lexer": "ipython3",
   "version": "3.9.15"
  }
 },
 "nbformat": 4,
 "nbformat_minor": 5
}
